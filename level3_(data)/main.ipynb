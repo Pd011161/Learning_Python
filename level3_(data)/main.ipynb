{
 "cells": [
  {
   "cell_type": "code",
   "execution_count": 2,
   "id": "2351ff7e",
   "metadata": {},
   "outputs": [
    {
     "name": "stdout",
     "output_type": "stream",
     "text": [
      "Defaulting to user installation because normal site-packages is not writeable\n",
      "Requirement already satisfied: pandas in /Users/Aksorn_AI/Library/Python/3.9/lib/python/site-packages (2.3.0)\n",
      "Requirement already satisfied: numpy>=1.22.4 in /Users/Aksorn_AI/Library/Python/3.9/lib/python/site-packages (from pandas) (2.0.2)\n",
      "Requirement already satisfied: python-dateutil>=2.8.2 in /Users/Aksorn_AI/Library/Python/3.9/lib/python/site-packages (from pandas) (2.9.0.post0)\n",
      "Requirement already satisfied: pytz>=2020.1 in /Users/Aksorn_AI/Library/Python/3.9/lib/python/site-packages (from pandas) (2025.2)\n",
      "Requirement already satisfied: tzdata>=2022.7 in /Users/Aksorn_AI/Library/Python/3.9/lib/python/site-packages (from pandas) (2025.2)\n",
      "Requirement already satisfied: six>=1.5 in /Library/Developer/CommandLineTools/Library/Frameworks/Python3.framework/Versions/3.9/lib/python3.9/site-packages (from python-dateutil>=2.8.2->pandas) (1.15.0)\n"
     ]
    }
   ],
   "source": [
    "!pip3 install pandas"
   ]
  },
  {
   "cell_type": "code",
   "execution_count": 3,
   "id": "a88de617",
   "metadata": {},
   "outputs": [
    {
     "name": "stdout",
     "output_type": "stream",
     "text": [
      "Defaulting to user installation because normal site-packages is not writeable\n",
      "Requirement already satisfied: numpy in /Users/Aksorn_AI/Library/Python/3.9/lib/python/site-packages (2.0.2)\n"
     ]
    }
   ],
   "source": [
    "!pip3 install numpy"
   ]
  },
  {
   "cell_type": "code",
   "execution_count": 4,
   "id": "23742e08",
   "metadata": {},
   "outputs": [],
   "source": [
    "import pandas as pd\n",
    "import numpy as np\n",
    "import json"
   ]
  },
  {
   "cell_type": "code",
   "execution_count": 6,
   "id": "8910b8c5",
   "metadata": {},
   "outputs": [
    {
     "name": "stdout",
     "output_type": "stream",
     "text": [
      "Orders:\n",
      "    order_id product_id  quantity  price        date\n",
      "0      1001       P001         2    150  2024-01-10\n",
      "1      1002       P003         1    300  2024-01-11\n",
      "2      1003       P002         5    100  2024-01-11\n",
      "3      1004       P001         1    150  2024-01-12 \n",
      "\n"
     ]
    }
   ],
   "source": [
    "orders = pd.read_csv(\"data/orders.csv\")\n",
    "print(\"Orders:\\n\", orders, \"\\n\")"
   ]
  },
  {
   "cell_type": "code",
   "execution_count": 7,
   "id": "0bd4d79f",
   "metadata": {},
   "outputs": [
    {
     "name": "stdout",
     "output_type": "stream",
     "text": [
      "Products:\n",
      "   product_id          name    category\n",
      "0       P001      Notebook  Stationery\n",
      "1       P002           Pen  Stationery\n",
      "2       P003  Water Bottle   Utilities \n",
      "\n"
     ]
    }
   ],
   "source": [
    "with open(\"data/products.json\", \"r\") as f:\n",
    "    products = pd.DataFrame(json.load(f))\n",
    "print(\"Products:\\n\", products, \"\\n\")"
   ]
  },
  {
   "cell_type": "code",
   "execution_count": 8,
   "id": "7f846eeb",
   "metadata": {},
   "outputs": [
    {
     "name": "stdout",
     "output_type": "stream",
     "text": [
      "Notes:\n",
      " Reminder: Review sales every Monday.\n",
      "Promotion: Buy 2 Get 1 for Pens on weekends.\n",
      " \n",
      "\n"
     ]
    }
   ],
   "source": [
    "with open(\"data/notes.txt\", \"r\") as f:\n",
    "    notes = f.read()\n",
    "print(\"Notes:\\n\", notes, \"\\n\")"
   ]
  },
  {
   "cell_type": "code",
   "execution_count": 9,
   "id": "d284d470",
   "metadata": {},
   "outputs": [
    {
     "name": "stdout",
     "output_type": "stream",
     "text": [
      "Merged Data:\n",
      "    order_id product_id  quantity  price        date          name    category\n",
      "0      1001       P001         2    150  2024-01-10      Notebook  Stationery\n",
      "1      1002       P003         1    300  2024-01-11  Water Bottle   Utilities\n",
      "2      1003       P002         5    100  2024-01-11           Pen  Stationery\n",
      "3      1004       P001         1    150  2024-01-12      Notebook  Stationery \n",
      "\n"
     ]
    }
   ],
   "source": [
    "# 1. Merge ข้อมูลสินค้าเข้า orders\n",
    "merged = pd.merge(orders, products, on=\"product_id\")\n",
    "print(\"Merged Data:\\n\", merged, \"\\n\")\n"
   ]
  },
  {
   "cell_type": "code",
   "execution_count": 11,
   "id": "47557c08",
   "metadata": {},
   "outputs": [
    {
     "name": "stdout",
     "output_type": "stream",
     "text": [
      "With Total Price:\n",
      "\n"
     ]
    },
    {
     "data": {
      "text/html": [
       "<div>\n",
       "<style scoped>\n",
       "    .dataframe tbody tr th:only-of-type {\n",
       "        vertical-align: middle;\n",
       "    }\n",
       "\n",
       "    .dataframe tbody tr th {\n",
       "        vertical-align: top;\n",
       "    }\n",
       "\n",
       "    .dataframe thead th {\n",
       "        text-align: right;\n",
       "    }\n",
       "</style>\n",
       "<table border=\"1\" class=\"dataframe\">\n",
       "  <thead>\n",
       "    <tr style=\"text-align: right;\">\n",
       "      <th></th>\n",
       "      <th>order_id</th>\n",
       "      <th>product_id</th>\n",
       "      <th>quantity</th>\n",
       "      <th>price</th>\n",
       "      <th>date</th>\n",
       "      <th>name</th>\n",
       "      <th>category</th>\n",
       "      <th>total_price</th>\n",
       "    </tr>\n",
       "  </thead>\n",
       "  <tbody>\n",
       "    <tr>\n",
       "      <th>0</th>\n",
       "      <td>1001</td>\n",
       "      <td>P001</td>\n",
       "      <td>2</td>\n",
       "      <td>150</td>\n",
       "      <td>2024-01-10</td>\n",
       "      <td>Notebook</td>\n",
       "      <td>Stationery</td>\n",
       "      <td>300</td>\n",
       "    </tr>\n",
       "    <tr>\n",
       "      <th>1</th>\n",
       "      <td>1002</td>\n",
       "      <td>P003</td>\n",
       "      <td>1</td>\n",
       "      <td>300</td>\n",
       "      <td>2024-01-11</td>\n",
       "      <td>Water Bottle</td>\n",
       "      <td>Utilities</td>\n",
       "      <td>300</td>\n",
       "    </tr>\n",
       "    <tr>\n",
       "      <th>2</th>\n",
       "      <td>1003</td>\n",
       "      <td>P002</td>\n",
       "      <td>5</td>\n",
       "      <td>100</td>\n",
       "      <td>2024-01-11</td>\n",
       "      <td>Pen</td>\n",
       "      <td>Stationery</td>\n",
       "      <td>500</td>\n",
       "    </tr>\n",
       "    <tr>\n",
       "      <th>3</th>\n",
       "      <td>1004</td>\n",
       "      <td>P001</td>\n",
       "      <td>1</td>\n",
       "      <td>150</td>\n",
       "      <td>2024-01-12</td>\n",
       "      <td>Notebook</td>\n",
       "      <td>Stationery</td>\n",
       "      <td>150</td>\n",
       "    </tr>\n",
       "  </tbody>\n",
       "</table>\n",
       "</div>"
      ],
      "text/plain": [
       "   order_id product_id  quantity  price        date          name    category  \\\n",
       "0      1001       P001         2    150  2024-01-10      Notebook  Stationery   \n",
       "1      1002       P003         1    300  2024-01-11  Water Bottle   Utilities   \n",
       "2      1003       P002         5    100  2024-01-11           Pen  Stationery   \n",
       "3      1004       P001         1    150  2024-01-12      Notebook  Stationery   \n",
       "\n",
       "   total_price  \n",
       "0          300  \n",
       "1          300  \n",
       "2          500  \n",
       "3          150  "
      ]
     },
     "execution_count": 11,
     "metadata": {},
     "output_type": "execute_result"
    }
   ],
   "source": [
    "\n",
    "# 2. เพิ่ม column total_price\n",
    "merged[\"total_price\"] = merged[\"quantity\"] * merged[\"price\"]\n",
    "print(\"With Total Price:\\n\")\n",
    "merged\n"
   ]
  },
  {
   "cell_type": "code",
   "execution_count": 13,
   "id": "5df0201b",
   "metadata": {},
   "outputs": [
    {
     "name": "stdout",
     "output_type": "stream",
     "text": [
      "ยอดขายรายวัน:\n",
      " date\n",
      "2024-01-10    300\n",
      "2024-01-11    800\n",
      "2024-01-12    150\n",
      "Name: total_price, dtype: int64 \n",
      "\n"
     ]
    }
   ],
   "source": [
    "# 3. Group by วันที่ หายอดขายรวม\n",
    "daily_sales = merged.groupby(\"date\")[\"total_price\"].sum()\n",
    "print(\"ยอดขายรายวัน:\\n\", daily_sales, \"\\n\")\n",
    "\n"
   ]
  },
  {
   "cell_type": "code",
   "execution_count": 14,
   "id": "7d47eb48",
   "metadata": {},
   "outputs": [
    {
     "name": "stdout",
     "output_type": "stream",
     "text": [
      "ยอดขายตามหมวดหมู่:\n",
      " category\n",
      "Stationery    950\n",
      "Utilities     300\n",
      "Name: total_price, dtype: int64 \n",
      "\n"
     ]
    }
   ],
   "source": [
    "# 4. Group by category\n",
    "category_sales = merged.groupby(\"category\")[\"total_price\"].sum()\n",
    "print(\"ยอดขายตามหมวดหมู่:\\n\", category_sales, \"\\n\")\n"
   ]
  },
  {
   "cell_type": "code",
   "execution_count": 18,
   "id": "b09f8e72",
   "metadata": {},
   "outputs": [
    {
     "name": "stdout",
     "output_type": "stream",
     "text": [
      "รายการขายสินค้า 'Pen':\n",
      "\n"
     ]
    },
    {
     "data": {
      "text/html": [
       "<div>\n",
       "<style scoped>\n",
       "    .dataframe tbody tr th:only-of-type {\n",
       "        vertical-align: middle;\n",
       "    }\n",
       "\n",
       "    .dataframe tbody tr th {\n",
       "        vertical-align: top;\n",
       "    }\n",
       "\n",
       "    .dataframe thead th {\n",
       "        text-align: right;\n",
       "    }\n",
       "</style>\n",
       "<table border=\"1\" class=\"dataframe\">\n",
       "  <thead>\n",
       "    <tr style=\"text-align: right;\">\n",
       "      <th></th>\n",
       "      <th>order_id</th>\n",
       "      <th>product_id</th>\n",
       "      <th>quantity</th>\n",
       "      <th>price</th>\n",
       "      <th>date</th>\n",
       "      <th>name</th>\n",
       "      <th>category</th>\n",
       "      <th>total_price</th>\n",
       "    </tr>\n",
       "  </thead>\n",
       "  <tbody>\n",
       "    <tr>\n",
       "      <th>0</th>\n",
       "      <td>1001</td>\n",
       "      <td>P001</td>\n",
       "      <td>2</td>\n",
       "      <td>150</td>\n",
       "      <td>2024-01-10</td>\n",
       "      <td>Notebook</td>\n",
       "      <td>Stationery</td>\n",
       "      <td>300</td>\n",
       "    </tr>\n",
       "    <tr>\n",
       "      <th>3</th>\n",
       "      <td>1004</td>\n",
       "      <td>P001</td>\n",
       "      <td>1</td>\n",
       "      <td>150</td>\n",
       "      <td>2024-01-12</td>\n",
       "      <td>Notebook</td>\n",
       "      <td>Stationery</td>\n",
       "      <td>150</td>\n",
       "    </tr>\n",
       "  </tbody>\n",
       "</table>\n",
       "</div>"
      ],
      "text/plain": [
       "   order_id product_id  quantity  price        date      name    category  \\\n",
       "0      1001       P001         2    150  2024-01-10  Notebook  Stationery   \n",
       "3      1004       P001         1    150  2024-01-12  Notebook  Stationery   \n",
       "\n",
       "   total_price  \n",
       "0          300  \n",
       "3          150  "
      ]
     },
     "execution_count": 18,
     "metadata": {},
     "output_type": "execute_result"
    }
   ],
   "source": [
    "\n",
    "# 5. กรองเฉพาะสินค้าที่เป็น 'notebook_sales'\n",
    "notebook_sales = merged[merged[\"name\"] == \"Notebook\"]\n",
    "print(\"รายการขายสินค้า 'Pen':\\n\")\n",
    "notebook_sales"
   ]
  },
  {
   "cell_type": "code",
   "execution_count": 19,
   "id": "d96d0d29",
   "metadata": {},
   "outputs": [
    {
     "name": "stdout",
     "output_type": "stream",
     "text": [
      "🎯 วิเคราะห์ด้วย NumPy\n",
      "Mean total price: 312.5\n",
      "Max total price: 500\n",
      "Min total price: 150 \n",
      "\n"
     ]
    }
   ],
   "source": [
    "total_prices = merged[\"total_price\"].to_numpy()\n",
    "\n",
    "print(\"🎯 วิเคราะห์ด้วย NumPy\")\n",
    "print(\"Mean total price:\", np.mean(total_prices))\n",
    "print(\"Max total price:\", np.max(total_prices))\n",
    "print(\"Min total price:\", np.min(total_prices), \"\\n\")"
   ]
  },
  {
   "cell_type": "code",
   "execution_count": 21,
   "id": "3d3e6eb9",
   "metadata": {},
   "outputs": [
    {
     "name": "stdout",
     "output_type": "stream",
     "text": [
      "✅ เขียนไฟล์ daily_sales_summary.csv แล้ว\n"
     ]
    }
   ],
   "source": [
    "daily_sales.to_csv(\"output/daily_sales_summary.csv\")\n",
    "print(\"✅ เขียนไฟล์ daily_sales_summary.csv แล้ว\")"
   ]
  }
 ],
 "metadata": {
  "kernelspec": {
   "display_name": "Python 3",
   "language": "python",
   "name": "python3"
  },
  "language_info": {
   "codemirror_mode": {
    "name": "ipython",
    "version": 3
   },
   "file_extension": ".py",
   "mimetype": "text/x-python",
   "name": "python",
   "nbconvert_exporter": "python",
   "pygments_lexer": "ipython3",
   "version": "3.9.6"
  }
 },
 "nbformat": 4,
 "nbformat_minor": 5
}
